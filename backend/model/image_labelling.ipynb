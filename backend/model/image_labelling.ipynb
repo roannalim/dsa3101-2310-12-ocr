{
 "cells": [
  {
   "cell_type": "code",
   "execution_count": 1,
   "metadata": {},
   "outputs": [
    {
     "name": "stdout",
     "output_type": "stream",
     "text": [
      "Requirement already satisfied: pyqt5 in /Library/Frameworks/Python.framework/Versions/3.10/lib/python3.10/site-packages (5.15.10)\n",
      "Requirement already satisfied: lxml in /Library/Frameworks/Python.framework/Versions/3.10/lib/python3.10/site-packages (4.9.3)\n",
      "Requirement already satisfied: PyQt5-sip<13,>=12.13 in /Library/Frameworks/Python.framework/Versions/3.10/lib/python3.10/site-packages (from pyqt5) (12.13.0)\n",
      "Requirement already satisfied: PyQt5-Qt5>=5.15.2 in /Library/Frameworks/Python.framework/Versions/3.10/lib/python3.10/site-packages (from pyqt5) (5.15.11)\n",
      "Note: you may need to restart the kernel to use updated packages.\n"
     ]
    }
   ],
   "source": [
    "pip install --upgrade pyqt5 lxml"
   ]
  },
  {
   "cell_type": "code",
   "execution_count": 2,
   "metadata": {},
   "outputs": [
    {
     "name": "stdout",
     "output_type": "stream",
     "text": [
      "Package                      Version\n",
      "---------------------------- ---------\n",
      "absl-py                      2.0.0\n",
      "appnope                      0.1.3\n",
      "asttokens                    2.4.0\n",
      "astunparse                   1.6.3\n",
      "backcall                     0.2.0\n",
      "cachetools                   5.3.1\n",
      "certifi                      2023.7.22\n",
      "charset-normalizer           3.3.0\n",
      "comm                         0.1.4\n",
      "debugpy                      1.8.0\n",
      "decorator                    5.1.1\n",
      "exceptiongroup               1.1.3\n",
      "executing                    2.0.0\n",
      "flatbuffers                  23.5.26\n",
      "gast                         0.5.4\n",
      "google-auth                  2.23.3\n",
      "google-auth-oauthlib         1.0.0\n",
      "google-pasta                 0.2.0\n",
      "grpcio                       1.59.0\n",
      "h5py                         3.10.0\n",
      "idna                         3.4\n",
      "ipykernel                    6.25.2\n",
      "ipython                      8.16.1\n",
      "jedi                         0.19.1\n",
      "jupyter_client               8.4.0\n",
      "jupyter_core                 5.4.0\n",
      "keras                        2.14.0\n",
      "labelImg                     1.8.6\n",
      "libclang                     16.0.6\n",
      "lxml                         4.9.3\n",
      "Markdown                     3.5\n",
      "MarkupSafe                   2.1.3\n",
      "matplotlib-inline            0.1.6\n",
      "ml-dtypes                    0.2.0\n",
      "nest-asyncio                 1.5.8\n",
      "numpy                        1.26.1\n",
      "oauthlib                     3.2.2\n",
      "opt-einsum                   3.3.0\n",
      "packaging                    23.2\n",
      "parso                        0.8.3\n",
      "pexpect                      4.8.0\n",
      "pickleshare                  0.7.5\n",
      "Pillow                       10.1.0\n",
      "pip                          23.2.1\n",
      "platformdirs                 3.11.0\n",
      "prompt-toolkit               3.0.39\n",
      "protobuf                     4.24.4\n",
      "psutil                       5.9.6\n",
      "ptyprocess                   0.7.0\n",
      "pure-eval                    0.2.2\n",
      "pyasn1                       0.5.0\n",
      "pyasn1-modules               0.3.0\n",
      "Pygments                     2.16.1\n",
      "PyQt5                        5.15.10\n",
      "PyQt5-Qt5                    5.15.11\n",
      "PyQt5-sip                    12.13.0\n",
      "pytesseract                  0.3.10\n",
      "python-dateutil              2.8.2\n",
      "pyzmq                        25.1.1\n",
      "requests                     2.31.0\n",
      "requests-oauthlib            1.3.1\n",
      "rsa                          4.9\n",
      "setuptools                   65.5.0\n",
      "six                          1.16.0\n",
      "stack-data                   0.6.3\n",
      "tensorboard                  2.14.1\n",
      "tensorboard-data-server      0.7.1\n",
      "tensorflow                   2.14.0\n",
      "tensorflow-estimator         2.14.0\n",
      "tensorflow-io-gcs-filesystem 0.34.0\n",
      "termcolor                    2.3.0\n",
      "tornado                      6.3.3\n",
      "traitlets                    5.11.2\n",
      "typing_extensions            4.8.0\n",
      "urllib3                      2.0.7\n",
      "wcwidth                      0.2.8\n",
      "Werkzeug                     3.0.0\n",
      "wheel                        0.41.2\n",
      "wrapt                        1.14.1\n",
      "Note: you may need to restart the kernel to use updated packages.\n"
     ]
    }
   ],
   "source": [
    "pip list"
   ]
  }
 ],
 "metadata": {
  "kernelspec": {
   "display_name": "Python 3",
   "language": "python",
   "name": "python3"
  },
  "language_info": {
   "codemirror_mode": {
    "name": "ipython",
    "version": 3
   },
   "file_extension": ".py",
   "mimetype": "text/x-python",
   "name": "python",
   "nbconvert_exporter": "python",
   "pygments_lexer": "ipython3",
   "version": "3.10.11"
  }
 },
 "nbformat": 4,
 "nbformat_minor": 2
}
